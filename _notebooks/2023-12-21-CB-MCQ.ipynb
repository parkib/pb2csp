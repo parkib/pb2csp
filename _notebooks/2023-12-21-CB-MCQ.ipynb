{
 "cells": [
  {
   "cell_type": "markdown",
   "metadata": {},
   "source": [
    "---\n",
    "comments: true\n",
    "layout: notebook\n",
    "title: College Board MCQ Corrections\n",
    "description: Corrections/Reflection on College Board 2020 MCQ quiz  \n",
    "type: ccc\n",
    "author: Prakruti Bhatt\n",
    "toc: true\n",
    "courses: { csp: {week: 16} }\n",
    "---"
   ]
  },
  {
   "cell_type": "markdown",
   "metadata": {},
   "source": [
    "# **College Board Quiz Correction/Reflection**"
   ]
  },
  {
   "cell_type": "markdown",
   "metadata": {},
   "source": [
    "#### Score/Reflection:\n",
    "My score for this assignment (2020 Practice Exam 1 MCQ) was 62/67. This showcases my understanding for most concepts, while leaving room to still improve. I want to learn more and clear concepts that I’m not quite sure about and/or having a difficult time fully understanding. \n",
    "\n",
    "#### Improvement \n",
    "I’ve definitely improved my scores and understanding of concepts such as lists, variables, and loops. I’ve got an understanding on binary representation, digital divide, and identifying errors in algorithms.\n",
    "\n",
    "## Corrections: \n",
    "\n",
    "#### **Question 5:**\n",
    "![Alt text](/pb2csp/images/q5.png)\n",
    "\n",
    "**Correction**: For this question, my answer was B: A = true,  B = false, C = false, D = true\n",
    "This is wrong because the OR gate will produce an output of true and the circuit will also have an overall output of false -- we are looking for an output of true.\n",
    "The correct answer is C: A = false, B = true,  C = true,  D = true\n",
    "This is correct because the OR gate will produce an output of true and the AND gate will produce an output of true -- both are true so output is also true.\n",
    "\n",
    "#### **Question 11:**\n",
    "![Alt text](/pb2csp/images/q11.png)\n",
    "\n",
    "**Correction**: My answer to this was light yellow but the RGB triplet for light yellow is (11111111, 11111111, 11100000) -- I thought 224 was 111100000 but its actually 111000000.\n",
    "The correct answer is actually ivory because 11110000 corresponds to 240 in binary.\n",
    "\n",
    "#### **Question 23:**\n",
    "![Alt text](/pb2csp/images/q23.png)\n",
    "\n",
    "**Correction**: My answer to this question was B ![Alt text](/pb2csp/images/23b.png) but this was wrong because the flowchart requires both conditions to be true in order to set available to true. \n",
    "The correct answer was D ![Alt text](/pb2csp/images/23d.png) because the flowchart sets available to true whenever weekday is true and the miles have to be less than 20 -- if its not it goes to false. It is the same as the flowchart.\n",
    "\n",
    "#### **Question 60:**\n",
    "![Alt text](/pb2csp/images/60.png)\n",
    "\n",
    "**Correction**: My answer was B ![Alt text](/pb2csp/images/60a.png) this is wrong because thelength of list1 (7) plus the length of list2 (5) minus the length of bothList (10), gives us 2 which is incorrect.\n",
    "The right answer was D ![Alt text](/pb2csp/images/60b.png) this is the right answer because the bothList contains 10 elements and the uniqueList contains 7 elements-- when you subtract the answer is 3. \n",
    "\n",
    "#### **Question 67:**\n",
    "![Alt text](/pb2csp/images/67.png) ![Alt text](/pb2csp/images/67b.png)\n",
    "\n",
    "**Correction**: The answers I choose were: B and C. B was correct. C was wrong. C was wrong because the count is increased to 1 when \"oak\" is encountered as the last element of the list. It returns the intended value. B doesn’t return the intended value so I was right for that one.\n",
    "The other correct answer was answer A: this was correct becausethe count is increased to 1 the first time \"birch\" is encountered and then the count becomes 0 at “maple”. Count goes to 1 again at “birch”. The result returns as 1 but its supposed to be 2 so this is the right answer aswell.\n",
    "\n",
    "\n",
    "#### What I can do to improve:\n",
    "Those were all my corrections and I think that I have a ton of room to improve. Things I can do to improve are look over the videos on college board, review team teaches, write more notes on team teaches, and do all the team teach homeworks. I should probably also probably try to incorporate more common variables/commands that I see in the MCQ exams and use them while making my blogs.\n",
    "\n",
    "#### Things to focus on:\n",
    "I should probably focus on perfecting my concept on binary and binary representation. I also need to touch up on my concepts of lists because it’s been a while since trimester one. I should probably go over all the old team teaches and the notes I took on those topics and go through my past college board quizzes. I should also make myself more familiar with Boolean variables. "
   ]
  }
 ],
 "metadata": {
  "language_info": {
   "name": "python"
  }
 },
 "nbformat": 4,
 "nbformat_minor": 2
}

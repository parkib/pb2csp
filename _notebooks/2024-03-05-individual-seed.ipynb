{
 "cells": [
  {
   "attachments": {},
   "cell_type": "raw",
   "metadata": {},
   "source": [
    "---\n",
    "layout: post\n",
    "toc: true\n",
    "title: Individual Seed\n",
    "description: \n",
    "courses: { csp: {week: 25} }\n",
    "type: ccc\n",
    "---"
   ]
  },
  {
   "cell_type": "markdown",
   "metadata": {},
   "source": [
    "## Individual\n",
    "I’ve made significant progress in the class, expanding my coding skills and gaining a deep understanding of various coding terms. Through consistent efforts and numerous commits, I’ve dedicated myself to enhancing my blog, showcasing continuous improvement in my coding journey. I ended with a 91.1 trimester 2! Eligible for 90% seed.\n",
    "\n",
    "## My contribution to N@TM\n",
    "- [quote repository](https://isabellehp.github.io/tri2/quote-repo/)\n",
    "- [view quote repo inputs](https://isabellehp.github.io/tri2/view/)\n",
    "- [information page](https://isabellehp.github.io/tri2/info/)\n",
    "- [login page/styling](https://isabellehp.github.io/tri2/login/)\n",
    "- [register page/styling](https://isabellehp.github.io/tri2/Register/)\n",
    "\n",
    "I don't have very many visible commits on the team project because I had many issues with my computer and I had problems committing to the repository. I contributed with the things listed above writing my code, and then sending it to a team member that committed for me (thank you!). \n",
    "\n",
    "![Alt text](/pb2csp/images/12im.png)\n",
    "\n",
    "_The reason why there isn't a spike in terms of commits is because I tend to do a ton of work and then commit and don't commit after each small thing that I do. This can be further seen through inspecting my commits more in depth._\n",
    "\n",
    "\n",
    "## Student Blog\n",
    "![Alt text](/pb2csp/images/im13.png)\n",
    "\n",
    "## GitHub Pages and AP Work\n",
    "https://parkib.github.io/pb2csp/ my blog page!! check it out.\n",
    "\n",
    "I worked very hard documenting information and notes from student team teaches or in-class lectures given by teachers. This blog also holds my personal progress in the class as well as corrections from college board and learning opportunities. I have also used my blog page to test out various features for my N@TM project (some of which can be found on my blog page). There are also scrum boards from previous trimesters and plans/tips for my self improvement. \n",
    "\n",
    "## CPT Trimester 2 Review:\n",
    "[CPT- Trimester 2 Review (individual final)](https://github.com/parkib/pb2csp/issues/2)\n",
    "\n",
    "The link above will guide you to my trimester 2 CPT project review. In this final I made a video of my feature, demonstrating the input and output and also giving a sneak-peak of both the frontend and backend code. I also made a blog which proves my understanding of college board guidelines as well as my ability to successfully meet those guidelines. There were still places where I could improve and I hope to incorporate those changes into my work this trimester.\n",
    "\n",
    "## COLLEGE BOARD MCQ\n",
    "College Board MCQ corrections: \n",
    "https://parkib.github.io/pb2csp//2023/12/21/CB-MCQ_IPYNB_2_.html\n",
    "\n",
    "This page shows how I tackled the College Board multiple-choice questions.  I messed up on some answers, but those mistakes weren't setbacks. I saw them as chances to learn. Checked where I went wrong, figured out what I didn't get, and then went the extra mile to fix it. Here you can find where I made mistakes, steps on the correct solution, and what I can do going forward to avoid making similar mistakes!\n",
    "\n",
    "## Key Indicators Issue \n",
    "\n",
    "[click here to view the key indicators issue](https://github.com/parkib/pb2csp/issues/1)\n",
    "This issue is a table with all of my notes and homework from all the team teaches that were taught to my entire class in trimester 2. I learned a ton of important things and I was able to incorporate this into my N@TM project for trimester 2. I look forward to taking more notes this trimester and learning even more things.\n",
    "\n",
    "## What I'm doing right now !!\n",
    "debugging:\n",
    "[debugging issue here](https://github.com/parkib/pb2csp/issues/3)\n",
    "\n",
    "\n",
    "## small insight on team plans\n",
    "\n",
    "Linked below are a small preview of my future team plans and what I hope to be doing to contribute to my team's project this trimester. My group of 3 includes me, Vibha and Hannah. My group of 6 adds on to Bella, Justin and Lindsey. I look forward to working with all of them and having a successful group project this trimester.\n",
    "\n",
    "What my Team plan is! :\n",
    "https://github.com/vibha-yganji/student-vibha/issues/5\n",
    "\n",
    "scrum board\n",
    "https://github.com/users/jplip/projects/1"
   ]
  }
 ],
 "metadata": {
  "kernelspec": {
   "display_name": "base",
   "language": "python",
   "name": "python3"
  },
  "language_info": {
   "codemirror_mode": {
    "name": "ipython",
    "version": 3
   },
   "file_extension": ".py",
   "mimetype": "text/x-python",
   "name": "python",
   "nbconvert_exporter": "python",
   "pygments_lexer": "ipython3",
   "version": "3.10.12"
  },
  "orig_nbformat": 4,
  "vscode": {
   "interpreter": {
    "hash": "65f6bdf080211a4261ca30203f2967d5d410cd9d47d7b7e5694003092334a949"
   }
  }
 },
 "nbformat": 4,
 "nbformat_minor": 2
}

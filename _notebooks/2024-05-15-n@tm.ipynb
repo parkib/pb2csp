{
 "cells": [
  {
   "attachments": {},
   "cell_type": "markdown",
   "metadata": {},
   "source": [
    "---\n",
    "comments: true\n",
    "layout: post\n",
    "title: Night @ The Museum Project Timeline (Trimester 3)!\n",
    "description: Just a brief timeline for reference\n",
    "type: collab\n",
    "courses: { csp: {week: 28} }\n",
    "---"
   ]
  },
  {
   "cell_type": "markdown",
   "metadata": {},
   "source": [
    "Me and Vibha are working on creating an extension of this task creation/tracker feature.\n",
    "- Users will be able to input a set of variables relating to a certain task (name,  deadline, assignment progress) and will assign that task under a certain priority.\n",
    "\n",
    "Additionally, we will also work on both of our previous features, hoping to improve their functionality and use!\n",
    "    - quote repository \n",
    "    - recipes journal\n",
    "\n",
    "The full plan can be further viewed with the links below!"
   ]
  },
  {
   "cell_type": "markdown",
   "metadata": {},
   "source": [
    "[Vibha's Issue!](https://github.com/vibha-yganji/student-vibha/issues/13)\n",
    "\n",
    "[My (Prakruti's) Issue!](https://github.com/parkib/pb2csp/issues/11)\n",
    "\n",
    "[Link to Vibha's timeline!](https://vibha-yganji.github.io/student-vibha/2024/05/14/timelinefornatm_IPYNB_2_.html)\n"
   ]
  },
  {
   "cell_type": "markdown",
   "metadata": {},
   "source": [
    "| Corresponding Dates/Self-Deadlines | Name of Corresponding Task | Task Description |\n",
    "|----------|----------|----------|\n",
    "| 05/15 - 05/20    | Task feature Extension   | Me and Vibha will work on the task feature and we will allow users to assign priorities to the tasks with other additional input values. We want to develop a filtering tool so we can sort each task depending on the priority and the task deadline. We will try doing this by incorporating some sort of filtering system.   |\n",
    "| 05/20 - 05/25   | Individual Feature work for Quote Repository and Recipe Journal   | While Vibha works on her recipe feature by adding uploading capabilities, I will work on my Quote feature by adding a 5 star rating system and the quote-battle game.  |\n",
    "| 05/25 - 05/26    | Additional Quote Repository Experiments  | Here, I will try to implement a searching feature so that users can make life easier for themselves by searching the quotes by corresponding keywords. This experience will also help our implementation of sorting techniques for our actual task feature.   |\n",
    "| 05/26 - 05/30    | Adding Sorting/Searching   | This is the final step! By the end of this, additions to our individual features should be completed, just working on some last minute finishing touches. Vibha will work on finishing up her tag system for her recipes where users can label items with a tag that can be implemented using a search method. I will finish up making a sorting system where users can sort quotes depending on individual ratings (for example, filter 5 stars to the top of the list and 1 star to the bottom of the list-- or vice versa, however the user's preference is)    |\n"
   ]
  },
  {
   "cell_type": "markdown",
   "metadata": {},
   "source": [
    "Both me and Vibha will work on implementing this and we can't wait to showcase our newly re-designed features!"
   ]
  }
 ],
 "metadata": {
  "kernelspec": {
   "display_name": "base",
   "language": "python",
   "name": "python3"
  },
  "language_info": {
   "codemirror_mode": {
    "name": "ipython",
    "version": 3
   },
   "file_extension": ".py",
   "mimetype": "text/x-python",
   "name": "python",
   "nbconvert_exporter": "python",
   "pygments_lexer": "ipython3",
   "version": "3.9.12"
  },
  "orig_nbformat": 4
 },
 "nbformat": 4,
 "nbformat_minor": 2
}

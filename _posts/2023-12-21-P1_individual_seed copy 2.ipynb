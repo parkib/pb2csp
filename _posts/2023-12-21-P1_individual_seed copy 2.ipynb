{
 "cells": [
  {
   "cell_type": "markdown",
   "metadata": {},
   "source": [
    "---\n",
    "comments: true\n",
    "layout: notebook\n",
    "title: TEAM Seed\n",
    "description: Team teach on safe computing\n",
    "type: collab\n",
    "author: Prakruti\n",
    "toc: true\n",
    "courses: { csp: {week: 16} }\n",
    "---"
   ]
  },
  {
   "cell_type": "markdown",
   "metadata": {},
   "source": [
    "## What my Team plan is! : \n",
    "\n",
    "https://github.com/vibha-yganji/student-vibha/issues/5\n",
    "\n",
    "## scrum board\n",
    "https://github.com/users/jplip/projects/1"
   ]
  }
 ],
 "metadata": {
  "language_info": {
   "name": "python"
  }
 },
 "nbformat": 4,
 "nbformat_minor": 2
}
